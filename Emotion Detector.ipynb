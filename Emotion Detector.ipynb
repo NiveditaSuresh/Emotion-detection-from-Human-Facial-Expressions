{
 "cells": [
  {
   "cell_type": "code",
   "execution_count": null,
   "metadata": {},
   "outputs": [],
   "source": [
    "import tarfile\n",
    "train_data = tarfile.open(\"train.tar\")\n",
    "train_data.extractall()"
   ]
  },
  {
   "cell_type": "code",
   "execution_count": 9,
   "metadata": {},
   "outputs": [],
   "source": [
    "import numpy as np\n",
    "import matplotlib.pyplot as plt\n",
    "import matplotlib.image as mpimg\n"
   ]
  },
  {
   "cell_type": "code",
   "execution_count": 10,
   "metadata": {},
   "outputs": [],
   "source": [
    "dataset_path  = \"train_image\""
   ]
  },
  {
   "cell_type": "code",
   "execution_count": 11,
   "metadata": {},
   "outputs": [],
   "source": [
    "from PIL import Image\n"
   ]
  },
  {
   "cell_type": "code",
   "execution_count": 12,
   "metadata": {},
   "outputs": [],
   "source": [
    "import csv\n",
    "with open('train.csv', 'r') as f:\n",
    "    reader = csv.reader(f)\n",
    "    your_list = list(reader)"
   ]
  },
  {
   "cell_type": "code",
   "execution_count": 13,
   "metadata": {},
   "outputs": [],
   "source": [
    "import os\n",
    "newpath = r'train_modified' \n",
    "if not os.path.exists(newpath):\n",
    "    os.makedirs(newpath)"
   ]
  },
  {
   "cell_type": "code",
   "execution_count": 14,
   "metadata": {},
   "outputs": [
    {
     "name": "stdout",
     "output_type": "stream",
     "text": [
      "12993\n"
     ]
    }
   ],
   "source": [
    "n = len(your_list)\n",
    "print(n)"
   ]
  },
  {
   "cell_type": "code",
   "execution_count": 15,
   "metadata": {},
   "outputs": [],
   "source": [
    "import csv\n",
    "name_list= []\n",
    "\n",
    "for index in range(0,n):\n",
    "    fname = your_list[index][0]\n",
    "    label = your_list[index][1]\n",
    "    try:\n",
    "        img= Image.open(dataset_path +'/'+ fname)\n",
    "    except IOError:\n",
    "        continue\n",
    "\n",
    "    img = Image.open(dataset_path +'/'+ fname)\n",
    "    img = img.convert(mode = 'L')\n",
    "    img = img.resize((300,300))\n",
    "\n",
    "    img_fliplr = img.transpose(Image.FLIP_LEFT_RIGHT)\n",
    "    name = 'fliplr_'+fname\n",
    "    name_list.append([name,label])\n",
    "    img_fliplr.save(newpath + '/'+name, format='JPEG')\n",
    " \n",
    "\n",
    "    img_rot = img.rotate(270)\n",
    "    name = 'fliprot_'+fname\n",
    "    name_list.append([name,label])\n",
    "    img_rot.save(newpath + '/'+name,format='JPEG')\n",
    "\n",
    "\n",
    "    \n",
    "    img.save(newpath + '/'+fname, format='JPEG')\n",
    "    name_list.append([fname,label])\n",
    "\n",
    "    \n",
    "    \n",
    "with open(\"train_names.csv\", \"w\",newline='') as f:\n",
    "    writer = csv.writer(f)\n",
    "    writer.writerows(name_list) \n"
   ]
  },
  {
   "cell_type": "code",
   "execution_count": null,
   "metadata": {},
   "outputs": [],
   "source": [
    "import random\n",
    "from sklearn.utils import shuffle\n",
    "import csv\n",
    "with open('train_names.csv', 'r') as f:\n",
    "    reader = csv.reader(f)\n",
    "    name_list = list(reader)\n",
    "n = len(name_list)\n",
    "name_list = shuffle(name_list, random_state=0)"
   ]
  },
  {
   "cell_type": "code",
   "execution_count": 3,
   "metadata": {},
   "outputs": [
    {
     "name": "stdout",
     "output_type": "stream",
     "text": [
      "38976\n"
     ]
    }
   ],
   "source": [
    "print(n)\n",
    "train_name_list = name_list[:int(n*0.8)]\n",
    "train_len = len(train_name_list)\n",
    "test_name_list = name_list[train_len:n]\n",
    "test_len = len(test_name_list)"
   ]
  },
  {
   "cell_type": "code",
   "execution_count": null,
   "metadata": {},
   "outputs": [],
   "source": [
    "import h5py\n",
    "import numpy as np\n",
    "import matplotlib.pyplot as plt\n",
    "import matplotlib.image as mpimg\n",
    "import random\n",
    "from sklearn.utils import shuffle\n",
    "\n",
    "\n",
    "def Image_normalization(img):\n",
    "    img = img/255\n",
    "    img = (img-np.mean(img))/np.std(img)\n",
    "    return img\n",
    "\n",
    "dataset_path = \"train_modified\"\n",
    "label_list  =[]\n",
    "ndata  = np.zeros((train_len,300,300))\n",
    "print(n)\n",
    "for index in range(0,train_len):\n",
    "    fname = train_name_list[index][0]\n",
    "    label = train_name_list[index][1]\n",
    "    img = mpimg.imread(dataset_path +'/'+ fname)\n",
    "    img =Image_normalization(img)\n",
    "    ndata[index,:,:] = img\n",
    "    label_list.append(label)\n",
    "\n",
    "import pandas\n",
    "import numpy as np\n",
    "label_categorical = pandas.get_dummies(label_list)\n",
    "label_categorical = np.asarray(label_categorical)\n",
    "\n",
    "np.save(\"emotion_train_data\",ndata)\n",
    "np.save(\"emotion_train_label\",label_categorical)\n"
   ]
  },
  {
   "cell_type": "code",
   "execution_count": null,
   "metadata": {},
   "outputs": [],
   "source": [
    "label_list  =[]\n",
    "ndata  = np.zeros((test_len,300,300))\n",
    "print(n)\n",
    "for index in range(0,test_len):\n",
    "    fname = test_name_list[index][0]\n",
    "    label = test_name_list[index][1]\n",
    "    img = mpimg.imread(dataset_path +'/'+ fname)\n",
    "    img =Image_normalization(img)\n",
    "    ndata[index,:,:] = img\n",
    "    label_list.append(label)\n",
    "\n",
    "\n",
    "label_categorical = pandas.get_dummies(label_list)\n",
    "label_categorical = np.asarray(label_categorical)\n",
    "\n",
    "np.save(\"emotion_test_data\",ndata)\n",
    "np.save(\"emotion_test_label\",label_categorical)"
   ]
  },
  {
   "cell_type": "code",
   "execution_count": 4,
   "metadata": {},
   "outputs": [],
   "source": [
    "import pandas\n",
    "import numpy as np\n",
    "label_categorical = pandas.get_dummies(label_list)\n",
    "label_categorical = np.asarray(label_categorical)\n"
   ]
  },
  {
   "cell_type": "code",
   "execution_count": 3,
   "metadata": {},
   "outputs": [],
   "source": [
    "np.save(\"emotion_data_1\",ndata)"
   ]
  },
  {
   "cell_type": "code",
   "execution_count": 5,
   "metadata": {},
   "outputs": [],
   "source": [
    "np.save(\"emotion_label_1\",label_categorical)"
   ]
  }
 ],
 "metadata": {
  "kernelspec": {
   "display_name": "Python 3",
   "language": "python",
   "name": "python3"
  },
  "language_info": {
   "codemirror_mode": {
    "name": "ipython",
    "version": 3
   },
   "file_extension": ".py",
   "mimetype": "text/x-python",
   "name": "python",
   "nbconvert_exporter": "python",
   "pygments_lexer": "ipython3",
   "version": "3.6.5"
  }
 },
 "nbformat": 4,
 "nbformat_minor": 2
}
