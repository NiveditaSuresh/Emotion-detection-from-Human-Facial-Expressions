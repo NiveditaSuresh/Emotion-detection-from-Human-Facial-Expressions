{
 "cells": [
  {
   "cell_type": "markdown",
   "metadata": {},
   "source": [
    "### Useful for datasets which don't fit in RAM\n",
    "### Generate each batch and process it\n",
    "### Can also do real time augmentation"
   ]
  },
  {
   "cell_type": "markdown",
   "metadata": {},
   "source": [
    "## NOTE: Brandon used ImageDataGenerator, which is a more high level way of doing fit_generator (i.e. you need to code less)\n",
    "## This code uses fit_generator, which gives you more control, but is a bit harder to code"
   ]
  },
  {
   "cell_type": "code",
   "execution_count": 10,
   "metadata": {},
   "outputs": [],
   "source": [
    "import numpy as np\n",
    "import glob\n",
    "from keras.utils import Sequence\n",
    "from keras.applications.resnet50 import ResNet50\n",
    "from PIL import Image"
   ]
  },
  {
   "cell_type": "code",
   "execution_count": 11,
   "metadata": {},
   "outputs": [],
   "source": [
    "def process_image(imagefile):\n",
    "    im = Image.open(imagefile)\n",
    "    im = im.convert(mode = 'L')\n",
    "    im = im.resize((350,350))\n",
    "    # Add augmentation if you want\n",
    "    return np.asarray(im).reshape(350,350,1)"
   ]
  },
  {
   "cell_type": "code",
   "execution_count": 12,
   "metadata": {},
   "outputs": [],
   "source": [
    "class BatchSampler(Sequence):\n",
    "    '''\n",
    "    See https://keras.io/utils/\n",
    "    Sequences are a safer way of doing generators\n",
    "    '''\n",
    "    \n",
    "    def __init__(self, data_dir, label_file, batch_size):\n",
    "        '''\n",
    "        data_dir: train_image directory\n",
    "        label_file: train.csv\n",
    "        '''\n",
    "        self.batch_size = batch_size\n",
    "        self.image_files = glob.glob(data_dir+'/*.jpg') #get all files in data directory\n",
    "        self.labels_dict = {}\n",
    "        self.label2id = {}\n",
    "        \n",
    "        # get all labels\n",
    "        lines = open(label_file).read().splitlines()\n",
    "        labels = []\n",
    "        for line in lines:\n",
    "            name,label = line.split(',')\n",
    "            self.labels_dict[name] = label\n",
    "            labels.append(label)\n",
    "        \n",
    "        # create integer labels for each emotion\n",
    "        count=0\n",
    "        for l in set(labels):\n",
    "            self.label2id[l] = count\n",
    "            count+=1\n",
    "        \n",
    "    def __len__(self):\n",
    "        '''\n",
    "        number of batches in 1 epoch\n",
    "        '''\n",
    "        return int(np.ceil(len(self.image_files) / float(self.batch_size)))\n",
    "\n",
    "    def __getitem__(self, idx):\n",
    "        '''\n",
    "        This is like the generator\n",
    "        Outputs a batch of samples\n",
    "        '''\n",
    "        batch_x = self.image_files[idx * self.batch_size:(idx + 1) * self.batch_size]\n",
    "        batch_y = []\n",
    "        for file in batch_x:\n",
    "            file_name = file.split('/')[-1] #this isolates only the filename\n",
    "            label = self.labels_dict[file_name] \n",
    "            batch_y.append(self.label2id[label])\n",
    "        return np.array([process_image(file) for file in batch_x]), np.array(batch_y)"
   ]
  },
  {
   "cell_type": "code",
   "execution_count": 13,
   "metadata": {},
   "outputs": [
    {
     "name": "stdout",
     "output_type": "stream",
     "text": [
      "12993\n",
      "{'neutral': 0, 'fear': 1, 'anger': 2, 'happiness': 3, 'contempt': 4, 'surprise': 5, 'disgust': 6, 'sadness': 7}\n",
      "407\n"
     ]
    }
   ],
   "source": [
    "bs = BatchSampler('./train_image', './train.csv', 32)\n",
    "print(len(bs.image_files))\n",
    "print(bs.label2id)\n",
    "print(len(bs))"
   ]
  },
  {
   "cell_type": "markdown",
   "metadata": {},
   "source": [
    "### Create Keras model"
   ]
  },
  {
   "cell_type": "code",
   "execution_count": null,
   "metadata": {},
   "outputs": [],
   "source": [
    "model.compile(optimizer='adam', loss='sparse_categorical_crossentropy', metrics=['sparse_categorical_accuracy'])\n",
    "model.fit_generator(bs, steps_per_epoch=len(bs), epochs=10)"
   ]
  },
  {
   "cell_type": "code",
   "execution_count": null,
   "metadata": {},
   "outputs": [],
   "source": []
  }
 ],
 "metadata": {
  "kernelspec": {
   "display_name": "Python 3",
   "language": "python",
   "name": "python3"
  },
  "language_info": {
   "codemirror_mode": {
    "name": "ipython",
    "version": 3
   },
   "file_extension": ".py",
   "mimetype": "text/x-python",
   "name": "python",
   "nbconvert_exporter": "python",
   "pygments_lexer": "ipython3",
   "version": "3.6.5"
  }
 },
 "nbformat": 4,
 "nbformat_minor": 2
}
